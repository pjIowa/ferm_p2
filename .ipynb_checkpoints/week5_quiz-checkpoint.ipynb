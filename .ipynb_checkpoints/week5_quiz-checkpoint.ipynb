{
 "cells": [
  {
   "cell_type": "code",
   "execution_count": 18,
   "metadata": {
    "collapsed": true
   },
   "outputs": [],
   "source": [
    "import math\n",
    "from scipy.special import ndtri"
   ]
  },
  {
   "cell_type": "code",
   "execution_count": 19,
   "metadata": {
    "collapsed": true
   },
   "outputs": [],
   "source": [
    "default_probs = [0.2,\n",
    "0.2,\n",
    "0.06,\n",
    "0.3,\n",
    "0.4,\n",
    "0.65,\n",
    "0.3,\n",
    "0.23,\n",
    "0.02,\n",
    "0.12,\n",
    "0.134,\n",
    "0.21,\n",
    "0.08,\n",
    "0.1,\n",
    "0.1,\n",
    "0.02,\n",
    "0.3,\n",
    "0.015,\n",
    "0.2,\n",
    "0.03]\n",
    "\n",
    "correlation = 0.\n",
    "notional = 1.\n",
    "recovery = 0.\n",
    "N = len(default_probs)"
   ]
  },
  {
   "cell_type": "code",
   "execution_count": 30,
   "metadata": {},
   "outputs": [
    {
     "name": "stdout",
     "output_type": "stream",
     "text": [
      "0.217\n"
     ]
    }
   ],
   "source": [
    "# Q1\n",
    "# What is p_N(3)?\n",
    "# round your answer to three decimal places\n",
    "\n",
    "# p(l) = INT of p_N(l|M)*phi(M)*dM\n",
    "# phi(M) is std norm PDF\n",
    "\n",
    "\n",
    "\n",
    "pnl = [0]*(N+1)\n",
    "pnl[0] = 1-default_probs[0]\n",
    "pnl[1] = default_probs[0]\n",
    "\n",
    "for i in range(2,N):\n",
    "    for j in range(1,i):\n",
    "        pnl[j] = pnl[j-1]*default_probs[i]+pnl[j]*(1.-default_probs[i])\n",
    "    pnl[0] *= 1.-default_probs[i]\n",
    "\n",
    "pnl\n",
    "print round(pnl[3], 3)"
   ]
  },
  {
   "cell_type": "code",
   "execution_count": 3,
   "metadata": {
    "collapsed": true
   },
   "outputs": [],
   "source": [
    "# Q2\n",
    "# What is the expected number of losses in the portfolio?\n",
    "# round your answer to two decimal places\n"
   ]
  },
  {
   "cell_type": "code",
   "execution_count": 4,
   "metadata": {
    "collapsed": true
   },
   "outputs": [],
   "source": [
    "# Q3\n",
    "# Compute the variance of the number of losses in the portfolio\n",
    "# round your answer to two decimal places"
   ]
  },
  {
   "cell_type": "code",
   "execution_count": 5,
   "metadata": {
    "collapsed": true
   },
   "outputs": [],
   "source": [
    "# Q4\n",
    "# What is the expected tranche loss in the tranche\n",
    "# with lower and upper attachment points of 0 and 2, respectively?\n",
    "# round your answer to two decimal places"
   ]
  },
  {
   "cell_type": "code",
   "execution_count": 6,
   "metadata": {
    "collapsed": true
   },
   "outputs": [],
   "source": [
    "# Q5\n",
    "# What is the expected tranche loss in the tranche \n",
    "# with lower and upper attachment points of 2 and 4, respectively?\n",
    "# round your answer to two decimal places"
   ]
  },
  {
   "cell_type": "code",
   "execution_count": null,
   "metadata": {
    "collapsed": true
   },
   "outputs": [],
   "source": [
    "# Q6\n",
    "# What is the expected tranche loss in the tranche \n",
    "# with lower and upper attachment points of 4 and 20, respectively? \n",
    "# round your answer to two decimal places"
   ]
  }
 ],
 "metadata": {
  "kernelspec": {
   "display_name": "Python 2",
   "language": "python",
   "name": "python2"
  },
  "language_info": {
   "codemirror_mode": {
    "name": "ipython",
    "version": 2
   },
   "file_extension": ".py",
   "mimetype": "text/x-python",
   "name": "python",
   "nbconvert_exporter": "python",
   "pygments_lexer": "ipython2",
   "version": "2.7.11"
  }
 },
 "nbformat": 4,
 "nbformat_minor": 2
}
