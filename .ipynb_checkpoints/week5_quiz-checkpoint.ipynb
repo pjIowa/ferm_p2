{
 "cells": [
  {
   "cell_type": "code",
   "execution_count": 1,
   "metadata": {
    "collapsed": true
   },
   "outputs": [],
   "source": [
    "import numpy as np"
   ]
  },
  {
   "cell_type": "code",
   "execution_count": 2,
   "metadata": {
    "collapsed": true
   },
   "outputs": [],
   "source": [
    "default_probs = [0.2,\n",
    "0.2,\n",
    "0.06,\n",
    "0.3,\n",
    "0.4,\n",
    "0.65,\n",
    "0.3,\n",
    "0.23,\n",
    "0.02,\n",
    "0.12,\n",
    "0.134,\n",
    "0.21,\n",
    "0.08,\n",
    "0.1,\n",
    "0.1,\n",
    "0.02,\n",
    "0.3,\n",
    "0.015,\n",
    "0.2,\n",
    "0.03]\n",
    "\n",
    "correlation = 0.\n",
    "notional = 1.\n",
    "recoveryRate = 0.\n",
    "N = len(default_probs)"
   ]
  },
  {
   "cell_type": "code",
   "execution_count": 3,
   "metadata": {},
   "outputs": [
    {
     "name": "stdout",
     "output_type": "stream",
     "text": [
      "0.24\n"
     ]
    }
   ],
   "source": [
    "# Q1\n",
    "# What is p_N(3)?\n",
    "# round your answer to three decimal places\n",
    "\n",
    "p_lattice = np.zeros((N,N+1))\n",
    "\n",
    "p_lattice[0][0] = 1.-default_probs[0]\n",
    "p_lattice[0][1] = default_probs[0]\n",
    "\n",
    "for i in range(1,N):\n",
    "    for j in range(0,i+2):\n",
    "        if j == 0:\n",
    "            p_lattice[i][j] = p_lattice[i-1][j]*(1.-default_probs[i])\n",
    "        elif j == i+1:\n",
    "            p_lattice[i][j] = p_lattice[i-1][j-1]*default_probs[i]\n",
    "        else:\n",
    "            p_lattice[i][j] = p_lattice[i-1][j-1]*default_probs[i]+ p_lattice[i-1][j]*(1.-default_probs[i])\n",
    "\n",
    "p_N = p_lattice[-1]\n",
    "print round(p_N[3], 3)"
   ]
  },
  {
   "cell_type": "code",
   "execution_count": 4,
   "metadata": {},
   "outputs": [
    {
     "name": "stdout",
     "output_type": "stream",
     "text": [
      "3.67\n"
     ]
    }
   ],
   "source": [
    "# Q2\n",
    "# What is the expected number of losses in the portfolio?\n",
    "# round your answer to two decimal places\n",
    "\n",
    "expectedLossCount = 0.\n",
    "for i in range(N+1):\n",
    "    expectedLossCount += p_N[i]*i\n",
    "\n",
    "print round(expectedLossCount, 2)"
   ]
  },
  {
   "cell_type": "code",
   "execution_count": 5,
   "metadata": {},
   "outputs": [
    {
     "name": "stdout",
     "output_type": "stream",
     "text": [
      "2.54\n"
     ]
    }
   ],
   "source": [
    "# Q3\n",
    "# Compute the variance of the number of losses in the portfolio\n",
    "# round your answer to two decimal places\n",
    "\n",
    "lossCountVariance = 0.\n",
    "\n",
    "for i in range(N+1):\n",
    "    lossCountVariance += p_N[i]*(i-expectedLossCount)**2\n",
    "\n",
    "print round(lossCountVariance, 2)"
   ]
  },
  {
   "cell_type": "code",
   "execution_count": 6,
   "metadata": {},
   "outputs": [
    {
     "name": "stdout",
     "output_type": "stream",
     "text": [
      "1.91\n"
     ]
    }
   ],
   "source": [
    "# Q4\n",
    "# What is the expected tranche loss in the tranche\n",
    "# with lower and upper attachment points of 0 and 2, respectively?\n",
    "# round your answer to two decimal places\n",
    "\n",
    "upperLimitCount = 2.\n",
    "lowerLimitCount = 0.\n",
    "expectedTrancheLossCount = 0.\n",
    "\n",
    "for i in range(N+1):\n",
    "    trancheLossCount = max(min(i, upperLimitCount)-lowerLimitCount, 0.)\n",
    "    expectedTrancheLossCount += trancheLossCount*p_N[i]\n",
    "\n",
    "expectedTrancheLoss = expectedTrancheLossCount*notional*(1.-recoveryRate)\n",
    "print round(expectedTrancheLoss, 2)"
   ]
  },
  {
   "cell_type": "code",
   "execution_count": 7,
   "metadata": {},
   "outputs": [
    {
     "name": "stdout",
     "output_type": "stream",
     "text": [
      "1.28\n"
     ]
    }
   ],
   "source": [
    "# Q5\n",
    "# What is the expected tranche loss in the tranche \n",
    "# with lower and upper attachment points of 2 and 4, respectively?\n",
    "# round your answer to two decimal places\n",
    "\n",
    "upperLimitCount = 4.\n",
    "lowerLimitCount = 2.\n",
    "expectedTrancheLossCount = 0.\n",
    "\n",
    "for i in range(N+1):\n",
    "    trancheLossCount = max(min(i, upperLimitCount)-lowerLimitCount, 0.)\n",
    "    expectedTrancheLossCount += trancheLossCount*p_N[i]\n",
    "\n",
    "expectedTrancheLoss = expectedTrancheLossCount*notional*(1.-recoveryRate)\n",
    "print round(expectedTrancheLoss, 2)"
   ]
  },
  {
   "cell_type": "code",
   "execution_count": 8,
   "metadata": {},
   "outputs": [
    {
     "name": "stdout",
     "output_type": "stream",
     "text": [
      "0.47\n"
     ]
    }
   ],
   "source": [
    "# Q6\n",
    "# What is the expected tranche loss in the tranche \n",
    "# with lower and upper attachment points of 4 and 20, respectively? \n",
    "# round your answer to two decimal places\n",
    "\n",
    "upperLimitCount = 20.\n",
    "lowerLimitCount = 4.\n",
    "expectedTrancheLossCount = 0.\n",
    "\n",
    "for i in range(N+1):\n",
    "    trancheLossCount = max(min(i, upperLimitCount)-lowerLimitCount, 0.)\n",
    "    expectedTrancheLossCount += trancheLossCount*p_N[i]\n",
    "\n",
    "expectedTrancheLoss = expectedTrancheLossCount*notional*(1.-recoveryRate)\n",
    "print round(expectedTrancheLoss, 2)"
   ]
  },
  {
   "cell_type": "code",
   "execution_count": null,
   "metadata": {
    "collapsed": true
   },
   "outputs": [],
   "source": []
  }
 ],
 "metadata": {
  "kernelspec": {
   "display_name": "Python 2",
   "language": "python",
   "name": "python2"
  },
  "language_info": {
   "codemirror_mode": {
    "name": "ipython",
    "version": 2
   },
   "file_extension": ".py",
   "mimetype": "text/x-python",
   "name": "python",
   "nbconvert_exporter": "python",
   "pygments_lexer": "ipython2",
   "version": "2.7.11"
  }
 },
 "nbformat": 4,
 "nbformat_minor": 2
}
