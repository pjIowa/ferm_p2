{
 "cells": [
  {
   "cell_type": "code",
   "execution_count": null,
   "metadata": {
    "collapsed": true
   },
   "outputs": [],
   "source": [
    "# all answers derived from excel"
   ]
  },
  {
   "cell_type": "code",
   "execution_count": 2,
   "metadata": {
    "collapsed": true
   },
   "outputs": [],
   "source": [
    "# Q1\n",
    "# Compute the annualized realized volatility of the log-returns for price path #1.\n",
    "# answer as a percentage and round it to two decimal places\n",
    "\n",
    "# 25.42"
   ]
  },
  {
   "cell_type": "code",
   "execution_count": null,
   "metadata": {
    "collapsed": true
   },
   "outputs": [],
   "source": [
    "# Q2\n",
    "# Compute the total realized P&L when hedging using price path #1\n",
    "# total realized P&L in the \"DemoSheet'' worksheet is in cell B11\n",
    "# round your answer to the nearest integer\n",
    "\n",
    "# 46625"
   ]
  },
  {
   "cell_type": "code",
   "execution_count": 3,
   "metadata": {
    "collapsed": true
   },
   "outputs": [],
   "source": [
    "# Q3\n",
    "# Compute the annualized realized volatility of the log-returns for price path #2.\n",
    "# answer as a percentage and round it to two decimal places\n",
    "\n",
    "# 30.36"
   ]
  },
  {
   "cell_type": "code",
   "execution_count": 4,
   "metadata": {
    "collapsed": true
   },
   "outputs": [],
   "source": [
    "# Q4\n",
    "# Compute the total realized P&L when hedging using price path #2\n",
    "# round your answer to the nearest integer\n",
    "\n",
    "# -20263"
   ]
  },
  {
   "cell_type": "code",
   "execution_count": 6,
   "metadata": {
    "collapsed": true
   },
   "outputs": [],
   "source": [
    "# Q5\n",
    "# Compute the annualized realized volatility of the log-returns for price path #3.\n",
    "# answer as a percentage and round it to two decimal places\n",
    "\n",
    "# 51.57"
   ]
  },
  {
   "cell_type": "code",
   "execution_count": 7,
   "metadata": {
    "collapsed": true
   },
   "outputs": [],
   "source": [
    "# Q6\n",
    "# Compute the total realized P&L when hedging using price path #3.\n",
    "# round your answer to the nearest integer\n",
    "\n",
    "# -122867"
   ]
  },
  {
   "cell_type": "code",
   "execution_count": 8,
   "metadata": {
    "collapsed": true
   },
   "outputs": [],
   "source": [
    "# Q7\n",
    "# Compute the annualized realized volatility of the log-returns for price path #4.\n",
    "# answer as a percentage and round it to two decimal places\n",
    "\n",
    "# 40.14"
   ]
  },
  {
   "cell_type": "code",
   "execution_count": 9,
   "metadata": {
    "collapsed": true
   },
   "outputs": [],
   "source": [
    "# Q8\n",
    "# Compute the total realized P&L when hedging using price path #4.\n",
    "# round your answer to the nearest integer\n",
    "\n",
    "# -104401"
   ]
  },
  {
   "cell_type": "code",
   "execution_count": null,
   "metadata": {
    "collapsed": true
   },
   "outputs": [],
   "source": []
  }
 ],
 "metadata": {
  "kernelspec": {
   "display_name": "Python 2",
   "language": "python",
   "name": "python2"
  },
  "language_info": {
   "codemirror_mode": {
    "name": "ipython",
    "version": 2
   },
   "file_extension": ".py",
   "mimetype": "text/x-python",
   "name": "python",
   "nbconvert_exporter": "python",
   "pygments_lexer": "ipython2",
   "version": "2.7.11"
  }
 },
 "nbformat": 4,
 "nbformat_minor": 2
}
