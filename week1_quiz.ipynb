{
 "cells": [
  {
   "cell_type": "code",
   "execution_count": 1,
   "metadata": {
    "collapsed": true
   },
   "outputs": [],
   "source": [
    "import numpy as np\n",
    "import math\n",
    "from scipy.optimize import minimize\n",
    "from numpy.linalg import inv,pinv\n",
    "\n",
    "riskyReturns = np.array([6., 2., 4.])\n",
    "riskyReturns /= 100.\n",
    "riskyCovariance = np.array([[8., -2., 4.],[-2.,2.,-2.],[4.,-2.,8.]])\n",
    "riskyCovariance /= 1000.\n",
    "riskFreeReturn = .01"
   ]
  },
  {
   "cell_type": "code",
   "execution_count": 2,
   "metadata": {
    "collapsed": true
   },
   "outputs": [],
   "source": [
    "volatility = np.diag(riskyCovariance)\n",
    "excessReturn = riskyReturns - riskFreeReturn"
   ]
  },
  {
   "cell_type": "code",
   "execution_count": 3,
   "metadata": {},
   "outputs": [
    {
     "name": "stdout",
     "output_type": "stream",
     "text": [
      "4.0\n"
     ]
    }
   ],
   "source": [
    "# Q1\n",
    "# Compute the mean return on the portfolio x=1/3(1,1,1) consisting only of the risky assets.\n",
    "# Give your answer in % rounded to 2 decimal places.\n",
    "riskyPortfolio = np.array([1.,1.,1.])/3.\n",
    "portfolioReturn = np.dot(riskyReturns, riskyPortfolio)\n",
    "\n",
    "print round(portfolioReturn*100.,2)"
   ]
  },
  {
   "cell_type": "code",
   "execution_count": 4,
   "metadata": {},
   "outputs": [
    {
     "name": "stdout",
     "output_type": "stream",
     "text": [
      "4.47\n"
     ]
    }
   ],
   "source": [
    "# Q2\n",
    "# Compute the volatility of the return\n",
    "# Give your answer in % rounded to 2 decimal places\n",
    "\n",
    "# 1x3*(3x3*3X1)\n",
    "riskyPortfolioVolatility = math.sqrt(np.dot(riskyPortfolio, np.dot(riskyCovariance, riskyPortfolio)))\n",
    "\n",
    "print round(riskyPortfolioVolatility*100., 2)"
   ]
  },
  {
   "cell_type": "code",
   "execution_count": 5,
   "metadata": {},
   "outputs": [
    {
     "name": "stdout",
     "output_type": "stream",
     "text": [
      "3.0\n"
     ]
    }
   ],
   "source": [
    "# Q3\n",
    "# Compute the mean return on the minimum variance portfolio of just the risky assets. \n",
    "# The minimum variance portfolio is defined as the portfolio of risky assets \n",
    "# that has the least volatility among all possible portfolios of just the risky assets. \n",
    "# optimization of min x^T*V*x s.t.∑x_i=1 for i = 1...d\n",
    "# Give your answer in % rounded to 2 decimal places\n",
    "\n",
    "# 1x3*3x3*3x1\n",
    "def calculatePortfolioVariance(x,V):\n",
    "    return np.dot(x, np.dot(V, x))\n",
    "\n",
    "cons = ({'type': 'eq', 'fun': lambda x:  np.sum(x)-1.})\n",
    "res= minimize(calculatePortfolioVariance, riskyPortfolio, args=riskyCovariance, \\\n",
    "              method='SLSQP',constraints=cons,tol=1e-6)\n",
    "minVarPortfolio = res.x\n",
    "portfolioReturn = np.dot(riskyReturns, minVarPortfolio)\n",
    "\n",
    "print round(portfolioReturn*100.,2)"
   ]
  },
  {
   "cell_type": "code",
   "execution_count": 6,
   "metadata": {},
   "outputs": [
    {
     "name": "stdout",
     "output_type": "stream",
     "text": [
      "3.42\n"
     ]
    }
   ],
   "source": [
    "# Q4\n",
    "# Compute the mean return on the Sharpe optimal portfolio for this market.\n",
    "# Recall that we can compute the Sharpe optimal portfolio by taking the risky positions \n",
    "# corresponding to any risk aversion parameter and re-scaling them so that the components add up to 1.\n",
    "# Give your answer in % rounded to 2 decimal places.\n",
    "\n",
    "riskAversion = 1.\n",
    "\n",
    "# 3x1 = 3x3*3x1\n",
    "sharpeOptimalPortfolio = (1./(2.*riskAversion))*np.dot(np.linalg.inv(riskyCovariance), excessReturn)\n",
    "sharpeOptimalPortfolio /= sum(sharpeOptimalPortfolio)\n",
    "\n",
    "sharpOptReturn = np.dot(riskyReturns, sharpeOptimalPortfolio)\n",
    "\n",
    "print round(sharpOptReturn*100.,2)"
   ]
  },
  {
   "cell_type": "code",
   "execution_count": 7,
   "metadata": {},
   "outputs": [
    {
     "name": "stdout",
     "output_type": "stream",
     "text": [
      "2.84\n"
     ]
    }
   ],
   "source": [
    "# Q5\n",
    "# Compute the volatility of the Sharpe optimal portfolio for this market.\n",
    "# Give your answer in % rounded to 2 decimal places.\n",
    "\n",
    "sharpOptVolatility = math.sqrt(np.dot(sharpeOptimalPortfolio, np.dot(riskyCovariance, sharpeOptimalPortfolio)))\n",
    "\n",
    "print round(sharpOptVolatility*100., 2)"
   ]
  },
  {
   "cell_type": "code",
   "execution_count": 8,
   "metadata": {},
   "outputs": [
    {
     "name": "stdout",
     "output_type": "stream",
     "text": [
      "0.85\n"
     ]
    }
   ],
   "source": [
    "# Q6\n",
    "# Using the results in the previous question, compute the slope of the capital market line.\n",
    "# Give your answer rounded to 2 decimal places. \n",
    "\n",
    "slope = (sharpOptReturn-riskFreeReturn)/sharpOptVolatility\n",
    "\n",
    "print round(slope, 2)"
   ]
  },
  {
   "cell_type": "code",
   "execution_count": 9,
   "metadata": {},
   "outputs": [
    {
     "name": "stdout",
     "output_type": "stream",
     "text": [
      "5.26\n"
     ]
    }
   ],
   "source": [
    "# Q7\n",
    "# Suppose the volatility of a an efficient investment opportunity is σ=5%. \n",
    "# What is the return on this opportunity?\n",
    "# Give your answer in % rounded to 2 decimal places.\n",
    "\n",
    "opportunityVolatility = .05\n",
    "expectedReturn = riskFreeReturn+(sharpOptReturn-riskFreeReturn)/sharpOptVolatility*opportunityVolatility\n",
    "\n",
    "print round(expectedReturn*100., 2)"
   ]
  },
  {
   "cell_type": "code",
   "execution_count": null,
   "metadata": {
    "collapsed": true
   },
   "outputs": [],
   "source": []
  },
  {
   "cell_type": "code",
   "execution_count": null,
   "metadata": {
    "collapsed": true
   },
   "outputs": [],
   "source": []
  }
 ],
 "metadata": {
  "kernelspec": {
   "display_name": "Python 2",
   "language": "python",
   "name": "python2"
  },
  "language_info": {
   "codemirror_mode": {
    "name": "ipython",
    "version": 2
   },
   "file_extension": ".py",
   "mimetype": "text/x-python",
   "name": "python",
   "nbconvert_exporter": "python",
   "pygments_lexer": "ipython2",
   "version": "2.7.11"
  }
 },
 "nbformat": 4,
 "nbformat_minor": 2
}
