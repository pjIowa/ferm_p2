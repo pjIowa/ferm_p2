{
 "cells": [
  {
   "cell_type": "code",
   "execution_count": 2,
   "metadata": {},
   "outputs": [
    {
     "data": {
      "text/html": [
       "<style>.container { width:100% !important; }</style>"
      ],
      "text/plain": [
       "<IPython.core.display.HTML object>"
      ]
     },
     "metadata": {},
     "output_type": "display_data"
    }
   ],
   "source": [
    "from IPython.core.display import display, HTML\n",
    "display(HTML(\"<style>.container { width:100% !important; }</style>\"))"
   ]
  },
  {
   "cell_type": "code",
   "execution_count": 1,
   "metadata": {
    "collapsed": true
   },
   "outputs": [],
   "source": [
    "import math"
   ]
  },
  {
   "cell_type": "code",
   "execution_count": 2,
   "metadata": {
    "collapsed": true
   },
   "outputs": [],
   "source": [
    "class Lattice:\n",
    "    def printLattice(self, downScale):\n",
    "        print 'scaled down by {0}'.format(downScale)\n",
    "        for t, level in enumerate(self.lattice):\n",
    "            print 'level {0}'.format(t)\n",
    "            level = [ round(elem/downScale, 3) for elem in level ]\n",
    "            print ', '.join(map(str, level))"
   ]
  },
  {
   "cell_type": "code",
   "execution_count": 3,
   "metadata": {
    "collapsed": true
   },
   "outputs": [],
   "source": [
    "class PriceLattice(Lattice):\n",
    "    def __init__(self, n, S0, u, d):\n",
    "        self.lattice = []\n",
    "        for i in range(n+1):\n",
    "            level = []\n",
    "            for j in range(i+1):\n",
    "                price = S0 * u**j * d**(i - j)\n",
    "                level.append(price)\n",
    "            self.lattice.append(level)"
   ]
  },
  {
   "cell_type": "code",
   "execution_count": 4,
   "metadata": {
    "collapsed": true
   },
   "outputs": [],
   "source": [
    "class PerfLattice(Lattice):\n",
    "    def __init__(self, u, d, R, uCost, maxU, baseLattice):\n",
    "        q = (R-d)/(u-d)\n",
    "        \n",
    "        self.lattice = []\n",
    "        rightLevel = []\n",
    "        \n",
    "        for i, level in enumerate(reversed(baseLattice)):\n",
    "            newLevel = []\n",
    "            if i == 0:\n",
    "                for j in range(len(level)):\n",
    "                    newLevel.append(0)\n",
    "            else:\n",
    "                for j in range(len(level)):\n",
    "                    profit = max(level[j]-uCost, 0)*maxU\n",
    "                    profit += q*rightLevel[j+1] + (1-q)*rightLevel[j]\n",
    "                    profit /= R\n",
    "                    newLevel.append(profit)\n",
    "            rightLevel = newLevel\n",
    "            self.lattice.insert(0, newLevel)"
   ]
  },
  {
   "cell_type": "code",
   "execution_count": 5,
   "metadata": {
    "collapsed": true
   },
   "outputs": [],
   "source": [
    "class UpgradeLattice(Lattice):\n",
    "    def __init__(self, n, u, d, R, unitCost, maxUnits, upCost, upUnitCost, upMaxUnits, startTime, downScale, baseLattice):\n",
    "        q = (R-d)/(u-d)\n",
    "        \n",
    "        self.originalLattice = []\n",
    "        rightOriginalLevel = []\n",
    "        \n",
    "        self.upgradedLattice = []\n",
    "        rightUpgradedLevel = []\n",
    "        \n",
    "        for i, level in enumerate(reversed(baseLattice)):\n",
    "            newOriginalLevel = []\n",
    "            newUpgradedLevel = []\n",
    "            if i == 0:\n",
    "                for j in range(len(level)):\n",
    "                    newOriginalLevel.append(0)\n",
    "                    newUpgradedLevel.append(0)\n",
    "            else:\n",
    "                for j in range(len(level)):\n",
    "                    originalValue = max(level[j]-unitCost, 0)*maxUnits\n",
    "                    originalValue += q*rightOriginalLevel[j+1] + (1-q)*rightOriginalLevel[j]\n",
    "                    originalValue /= R\n",
    "                    newOriginalLevel.append(originalValue)\n",
    "                    \n",
    "                    upgradedValue = max(level[j]-upUnitCost, 0)*upMaxUnits\n",
    "                    upgradedValue += q*rightUpgradedLevel[j+1] + (1-q)*rightUpgradedLevel[j]\n",
    "                    upgradedValue /= R\n",
    "                    newUpgradedLevel.append(upgradedValue)\n",
    "                    \n",
    "                    \n",
    "            rightOriginalLevel = newOriginalLevel\n",
    "            self.originalLattice.insert(0, newOriginalLevel)\n",
    "            \n",
    "            rightUpgradedLevel = newUpgradedLevel\n",
    "            self.upgradedLattice.insert(0, newUpgradedLevel)\n",
    "        \n",
    "        for i in range(n):\n",
    "            level = self.upgradedLattice[i]\n",
    "            for j in range(len(level)):\n",
    "                level[j] -= upCost\n",
    " \n",
    "        self.exerciseBoundary = []\n",
    "        self.lattice = []\n",
    "        rightLevel = []\n",
    "        for i, level in enumerate(reversed(baseLattice)):\n",
    "            newLevel = []\n",
    "            exerciseLevel = []\n",
    "            if i == 0:\n",
    "                for j in range(len(level)):\n",
    "                    newLevel.append(0)\n",
    "            else:\n",
    "                for j in range(len(level)):\n",
    "                    boundaryValue = self.upgradedLattice[n-i][j]-self.originalLattice[n-i][j]\n",
    "                    if boundaryValue > 0. and n-i >= startTime:\n",
    "                        upgradedValue = self.upgradedLattice[n-i][j]\n",
    "                        originalValue = max(level[j]-unitCost, 0)*maxUnits\n",
    "                        originalValue += q*rightLevel[j+1] + (1-q)*rightLevel[j]\n",
    "                        originalValue /= R\n",
    "                        newLevel.append(max(upgradedValue, originalValue))\n",
    "                    else:\n",
    "                        originalValue = max(level[j]-unitCost, 0)*maxUnits\n",
    "                        originalValue += q*rightLevel[j+1] + (1-q)*rightLevel[j]\n",
    "                        originalValue /= R\n",
    "                        newLevel.append(originalValue)\n",
    "                    exerciseLevel.append(boundaryValue)\n",
    "                        \n",
    "            rightLevel = newLevel\n",
    "            self.exerciseBoundary.insert(0, exerciseLevel)    \n",
    "            self.lattice.insert(0, newLevel)"
   ]
  },
  {
   "cell_type": "code",
   "execution_count": 6,
   "metadata": {
    "collapsed": true
   },
   "outputs": [],
   "source": [
    "numPeriods = 10\n",
    "startPrice = 400.\n",
    "unitCostOfProduction = 200.\n",
    "maximumUnitRate = 10000.\n",
    "\n",
    "# Enhancement:\n",
    "# enhancement costs $5 million but raises mining capability to 14,000 ounces\n",
    "# at an operating cost of $240 per ounce.\n",
    "upgradeCost = 5000000\n",
    "upgradedUnitCostOfProduction = 240.\n",
    "upgradedMaximumUnitRate = 14000.\n",
    "downScale = 1000000.\n",
    "\n",
    "riskFreeReturn = 1.1\n",
    "upMoveReturn = 1.2\n",
    "downMoveReturn = .9"
   ]
  },
  {
   "cell_type": "code",
   "execution_count": 7,
   "metadata": {},
   "outputs": [
    {
     "name": "stdout",
     "output_type": "stream",
     "text": [
      "scaled down by 1.0\n",
      "level 0\n",
      "400.0\n",
      "level 1\n",
      "360.0, 480.0\n",
      "level 2\n",
      "324.0, 432.0, 576.0\n",
      "level 3\n",
      "291.6, 388.8, 518.4, 691.2\n",
      "level 4\n",
      "262.44, 349.92, 466.56, 622.08, 829.44\n",
      "level 5\n",
      "236.196, 314.928, 419.904, 559.872, 746.496, 995.328\n",
      "level 6\n",
      "212.576, 283.435, 377.914, 503.885, 671.846, 895.795, 1194.394\n",
      "level 7\n",
      "191.319, 255.092, 340.122, 453.496, 604.662, 806.216, 1074.954, 1433.272\n",
      "level 8\n",
      "172.187, 229.583, 306.11, 408.147, 544.196, 725.594, 967.459, 1289.945, 1719.927\n",
      "level 9\n",
      "154.968, 206.624, 275.499, 367.332, 489.776, 653.035, 870.713, 1160.951, 1547.934, 2063.912\n",
      "level 10\n",
      "139.471, 185.962, 247.949, 330.599, 440.798, 587.731, 783.642, 1044.856, 1393.141, 1857.521, 2476.695\n"
     ]
    }
   ],
   "source": [
    "priceL = PriceLattice(numPeriods, startPrice, upMoveReturn, downMoveReturn)\n",
    "priceL.printLattice(1.)"
   ]
  },
  {
   "cell_type": "code",
   "execution_count": 8,
   "metadata": {},
   "outputs": [
    {
     "name": "stdout",
     "output_type": "stream",
     "text": [
      "30.264\n"
     ]
    }
   ],
   "source": [
    "# Q1\n",
    "# Compute the time t=0 value of the mine when the enhancement is already in place.\n",
    "# answer in millions, rounded to three decimal places\n",
    "\n",
    "perfL = PerfLattice(upMoveReturn, downMoveReturn, riskFreeReturn, upgradedUnitCostOfProduction, upgradedMaximumUnitRate, priceL.lattice[:])\n",
    "print round(perfL.lattice[0][0]/downScale, 3)"
   ]
  },
  {
   "cell_type": "code",
   "execution_count": 9,
   "metadata": {},
   "outputs": [
    {
     "name": "stdout",
     "output_type": "stream",
     "text": [
      "25.48\n"
     ]
    }
   ],
   "source": [
    "# Q2\n",
    "# Compute the time t=0 value of the mine when the lease enhancement is not in place\n",
    "# but you do have the option to perform the enhancement\n",
    "# at the beginning of the fifth year or any later point in the lifetime of the lease\n",
    "# answer in millions, rounded to three decimal places\n",
    "\n",
    "startTime = 5\n",
    "upgradeL = UpgradeLattice(numPeriods, upMoveReturn, downMoveReturn, riskFreeReturn, unitCostOfProduction, maximumUnitRate, \\\n",
    "                    upgradeCost, upgradedUnitCostOfProduction, upgradedMaximumUnitRate, startTime, \\\n",
    "                    downScale, priceL.lattice[:])\n",
    "print round(upgradeL.lattice[0][0]/downScale, 3)"
   ]
  },
  {
   "cell_type": "code",
   "execution_count": 10,
   "metadata": {},
   "outputs": [
    {
     "name": "stdout",
     "output_type": "stream",
     "text": [
      "level 0\n",
      "1.19\n",
      "level 1\n",
      "-1.048, 2.877\n",
      "level 2\n",
      "-2.821, 0.312, 4.501\n",
      "level 3\n",
      "-4.17, -1.724, 1.575, 5.973\n",
      "level 4\n",
      "-5.109, -3.286, -0.744, 2.649, 7.174\n",
      "level 5\n",
      "-5.584, -4.422, -2.521, 0.024, 3.417, 7.941\n",
      "level 6\n",
      "-5.512, -5.164, -3.814, -1.982, 0.461, 3.719, 8.062\n",
      "level 7\n",
      "-5.271, -5.52, -4.672, -3.435, -1.786, 0.413, 3.345, 7.254\n",
      "level 8\n",
      "-5.036, -5.429, -5.134, -4.392, -3.403, -2.083, -0.324, 2.021, 5.148\n",
      "level 9\n",
      "-5.0, -5.06, -5.235, -4.901, -4.455, -3.862, -3.07, -2.015, -0.608, 1.269\n",
      "level 10\n",
      "\n"
     ]
    }
   ],
   "source": [
    "# Q3\n",
    "# Suppose you own the lease on the mine and the option to enhance the mine in year 5 or later.\n",
    "# Assuming you behave optimally, what is the earliest period in which there is \n",
    "# a strictly positive probability that you will enhance the mine, i.e. install the new equipment?\n",
    "# answer as an integer\n",
    "\n",
    "for t, level in enumerate(upgradeL.exerciseBoundary):\n",
    "    print 'level {0}'.format(t)\n",
    "    level = [ round(elem/downScale, 3) for elem in level ]\n",
    "    print ', '.join(map(str, level))\n",
    "\n",
    "# Answer: 5\n",
    "#  at the first year allowed to exercise the mine, there exists at least one state "
   ]
  },
  {
   "cell_type": "code",
   "execution_count": 11,
   "metadata": {
    "collapsed": true
   },
   "outputs": [],
   "source": [
    "# Q4\n",
    "# Suppose you own the lease on the mine and the option to enhance the mine in year 5 or later. \n",
    "# Assuming you behave optimally, how many time periods are there in which there is \n",
    "# a strictly positive probability that you will actually enhance the mine, i.e. install the new equipment?\n",
    "# answer as an integer\n",
    "\n",
    "# Answer: 2"
   ]
  }
 ],
 "metadata": {
  "kernelspec": {
   "display_name": "Python 2",
   "language": "python",
   "name": "python2"
  },
  "language_info": {
   "codemirror_mode": {
    "name": "ipython",
    "version": 2
   },
   "file_extension": ".py",
   "mimetype": "text/x-python",
   "name": "python",
   "nbconvert_exporter": "python",
   "pygments_lexer": "ipython2",
   "version": "2.7.11"
  }
 },
 "nbformat": 4,
 "nbformat_minor": 2
}
