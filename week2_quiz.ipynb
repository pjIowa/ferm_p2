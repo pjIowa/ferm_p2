{
 "cells": [
  {
   "cell_type": "code",
   "execution_count": 1,
   "metadata": {
    "collapsed": true
   },
   "outputs": [],
   "source": [
    "import math"
   ]
  },
  {
   "cell_type": "code",
   "execution_count": 2,
   "metadata": {
    "collapsed": true
   },
   "outputs": [],
   "source": [
    "# Q1\n",
    "# Compute an estimated efficient portfolio with 5% volatility. \n",
    "# What is the estimated return on this portfolio?\n",
    "# Give your answer in % rounded to 2 decimal places\n",
    "\n",
    "\n",
    "# 5.32 in excel"
   ]
  },
  {
   "cell_type": "code",
   "execution_count": 3,
   "metadata": {
    "collapsed": true
   },
   "outputs": [],
   "source": [
    "# Q2\n",
    "# Compute the true expected return (realized return) of the portfolio that you computed in Problem 1.\n",
    "# Give your answer in % rounded to 2 decimal places\n",
    "\n",
    "# 3.86 in excel"
   ]
  },
  {
   "cell_type": "code",
   "execution_count": 4,
   "metadata": {
    "collapsed": true
   },
   "outputs": [],
   "source": [
    "# Q3\n",
    "# In the \"Value-at-Risk\" worksheet we list the simulated monthly returns again, and from these returns\n",
    "# we compute the monthly rate of loss on an equally weighted portfolio of only the risky assets in column E. \n",
    "# Use this data to estimate the Value-at-Risk at the 90% probability level.\n",
    "# Give your answer in % rounded to 2 decimal places\n",
    "\n",
    "# p = .9\n",
    "# K_p = 54\n",
    "# 1.29"
   ]
  },
  {
   "cell_type": "code",
   "execution_count": 5,
   "metadata": {
    "collapsed": true
   },
   "outputs": [],
   "source": [
    "# Q4\n",
    "# Use this data to estimate the Conditional Value-at-Risk at the 90% probability level.\n",
    "# Give your answer in % rounded to 2 decimal places\n",
    "\n",
    "# N = 60\n",
    "# \n",
    "# 1./(N*(1.-p)) * sum of values >= .9 prob\n",
    "# 2.16"
   ]
  },
  {
   "cell_type": "code",
   "execution_count": 6,
   "metadata": {},
   "outputs": [
    {
     "name": "stdout",
     "output_type": "stream",
     "text": [
      "0.0176\n"
     ]
    }
   ],
   "source": [
    "# Q5\n",
    "# Consider a portfolio manager who has been successful in 12 years out of 15. \n",
    "# Compute the probability of the manager having a track record as good as or better than this if he had no skill.\n",
    "# You may assume that success or failure in any year is independent of success or failure in any other year.\n",
    "# Give your answer to 4 decimal places\n",
    "\n",
    "def nCr(n,r):\n",
    "    f = math.factorial\n",
    "    return f(n) / f(r) / f(n-r)\n",
    "\n",
    "n = 15\n",
    "p = .5\n",
    "probNoSkill = 0.\n",
    "for r in range(12, n+1):\n",
    "    probNoSkill += nCr(n,r)*(p**r)*((1-p)**(n-r))\n",
    "\n",
    "print round(probNoSkill,4)"
   ]
  },
  {
   "cell_type": "code",
   "execution_count": 7,
   "metadata": {},
   "outputs": [
    {
     "name": "stdout",
     "output_type": "stream",
     "text": [
      "0.0477\n"
     ]
    }
   ],
   "source": [
    "# Q6\n",
    "# Suppose now that there are M=100 fund managers, each of whom have 15-year track records. \n",
    "# Suppose that the best manager outperformed in 14 of the 15 years. \n",
    "# Compute the probability that the best of the managers had a track record as good as or better than this\n",
    "# if all of them had no skill. \n",
    "# You may assume that success or failure in any year is independent of success\n",
    "# or failure in any other year and that the managers' performances are independent of each other.\n",
    "# Give your answer to 4 decimal places\n",
    "\n",
    "n = 15\n",
    "p = .5\n",
    "probNoSkill = 0.\n",
    "for r in range(14, n+1):\n",
    "    probNoSkill += nCr(n,r)*(p**r)*((1-p)**(n-r))\n",
    "    \n",
    "\n",
    "M = 100\n",
    "bestManagerNoSkill = 1.-(1.-probNoSkill)**M\n",
    "print round(bestManagerNoSkill,4)"
   ]
  },
  {
   "cell_type": "code",
   "execution_count": 11,
   "metadata": {},
   "outputs": [
    {
     "name": "stdout",
     "output_type": "stream",
     "text": [
      "0.75\n"
     ]
    }
   ],
   "source": [
    "# Q6\n",
    "# Consider a version of the Monty Hall problem where there are 4 doors. \n",
    "# There are goats behind 2 of the doors and valuable prizes behind the other two doors. \n",
    "# The game is played as follows:\n",
    "\n",
    "# You first choose a door.\n",
    "# Before your chosen door is opened Monty Hall opens one of the other 3 doors and reveals a goat behind that door.\n",
    "# He now gives you the opportunity to change your mind and select another door.\n",
    "# Your chosen door is now opened and your prize is revealed.\n",
    "# If you behave optimally, what is the probability that you will win one of the valuable prizes?\n",
    "# Give your answer to 2 decimal places.\n",
    "\n",
    "# 2 goats, 2 cars\n",
    "\n",
    "# door 1, chosen\n",
    "# door 2\n",
    "# door 3\n",
    "# door 4, goat\n",
    "\n",
    "# door 1 can be either car or goat\n",
    "# 2/4 = .5\n",
    "# door 2 and 3 can either be car, car or car, goat\n",
    "print .5*.5+1.*.5"
   ]
  },
  {
   "cell_type": "code",
   "execution_count": null,
   "metadata": {
    "collapsed": true
   },
   "outputs": [],
   "source": []
  }
 ],
 "metadata": {
  "kernelspec": {
   "display_name": "Python 2",
   "language": "python",
   "name": "python2"
  },
  "language_info": {
   "codemirror_mode": {
    "name": "ipython",
    "version": 2
   },
   "file_extension": ".py",
   "mimetype": "text/x-python",
   "name": "python",
   "nbconvert_exporter": "python",
   "pygments_lexer": "ipython2",
   "version": "2.7.11"
  }
 },
 "nbformat": 4,
 "nbformat_minor": 2
}
